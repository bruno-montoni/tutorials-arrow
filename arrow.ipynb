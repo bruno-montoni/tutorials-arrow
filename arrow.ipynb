{
 "cells": [
  {
   "cell_type": "markdown",
   "metadata": {},
   "source": [
    "# ```arrow``` Tutorial #\n",
    "\n",
    "### What is ```arrow```? ###\n",
    "```arrow``` is a library that offers a human-friendly approach to creating and manipulating dates/timestamps. \n",
    "\n",
    "### Instalation ###\n",
    "```arrow``` can be installed via ```pip3 install arrow```.\n",
    "\n",
    "### Frequency Literals ###\n",
    "List include: ```year```, ```years```, ```month```, ```months```, ```day```, ```days```, ```hour```, ```hours```, ```minute```, ```minutes```, ```second```, ```seconds```, ```microsecond```, ```microseconds```, ```week```, ```weeks```, ```quarter```, ```quarters```.\n",
    "\n",
    "### Redundant Whitespace ###\n",
    "Redundant whitespace characters (spaces, tabs, and newlines) can be ignored automatically by passing in the ```normalize_whitespace``` flag to ```arrow.get```.\n",
    "\n",
    "### Documentation ###\n",
    "- ```arrow``` Documentation - [Link](https://arrow.readthedocs.io/en/latest/index.html);\n",
    "\n",
    "---"
   ]
  },
  {
   "cell_type": "markdown",
   "metadata": {},
   "source": [
    "### Importing Dependencies ###"
   ]
  },
  {
   "cell_type": "code",
   "execution_count": 1,
   "metadata": {},
   "outputs": [],
   "source": [
    "import arrow"
   ]
  },
  {
   "cell_type": "markdown",
   "metadata": {},
   "source": [
    "### Main ###"
   ]
  },
  {
   "cell_type": "code",
   "execution_count": 18,
   "metadata": {},
   "outputs": [
    {
     "data": {
      "text/plain": [
       "<Arrow [2024-01-10T16:09:13.497538-03:00]>"
      ]
     },
     "execution_count": 18,
     "metadata": {},
     "output_type": "execute_result"
    }
   ],
   "source": [
    "# Creating 'now' objects\n",
    "arrow_1 = arrow.now() # Localized\n",
    "arrow_2 = arrow.now(\"US/Pacific\") # Custom\n",
    "arrow_3 = arrow.utcnow() # UTC\n",
    "arrow_1 "
   ]
  },
  {
   "cell_type": "code",
   "execution_count": 20,
   "metadata": {},
   "outputs": [
    {
     "data": {
      "text/plain": [
       "<Arrow [2013-05-07T04:24:24+00:00]>"
      ]
     },
     "execution_count": 20,
     "metadata": {},
     "output_type": "execute_result"
    }
   ],
   "source": [
    "# Creating objects from timestamps\n",
    "arrow_4 = arrow.get(1367900664) # From epochs (secs)\n",
    "arrow_4"
   ]
  },
  {
   "cell_type": "code",
   "execution_count": 21,
   "metadata": {},
   "outputs": [
    {
     "data": {
      "text/plain": [
       "<Arrow [2023-01-01T12:00:00+00:00]>"
      ]
     },
     "execution_count": 21,
     "metadata": {},
     "output_type": "execute_result"
    }
   ],
   "source": [
    "# Creating objects from strings (alternative to 'strptime')\n",
    "arrow_5 = arrow.get(\"2023-01-01 12:00:00\", \"YYYY-MM-DD HH:mm:ss\")\n",
    "arrow_5"
   ]
  },
  {
   "cell_type": "code",
   "execution_count": 22,
   "metadata": {},
   "outputs": [
    {
     "data": {
      "text/plain": [
       "<Arrow [2023-01-01T12:00:00+00:00]>"
      ]
     },
     "execution_count": 22,
     "metadata": {},
     "output_type": "execute_result"
    }
   ],
   "source": [
    "# Creating objects from arguments (as a datetime)\n",
    "arrow_6 = arrow.get(2023, 1, 1, 12, 0, 0)\n",
    "arrow_6"
   ]
  },
  {
   "cell_type": "markdown",
   "metadata": {},
   "source": [
    "**Properties**"
   ]
  },
  {
   "cell_type": "code",
   "execution_count": 30,
   "metadata": {},
   "outputs": [
    {
     "data": {
      "text/plain": [
       "datetime.timedelta(0)"
      ]
     },
     "execution_count": 30,
     "metadata": {},
     "output_type": "execute_result"
    }
   ],
   "source": [
    "# Adjusting for daylight saving (DST)\n",
    "arrow_1.dst() # [timedelta]"
   ]
  },
  {
   "cell_type": "code",
   "execution_count": 31,
   "metadata": {},
   "outputs": [
    {
     "data": {
      "text/plain": [
       "1704913753.497538"
      ]
     },
     "execution_count": 31,
     "metadata": {},
     "output_type": "execute_result"
    }
   ],
   "source": [
    "# Representing as float\n",
    "arrow_1.float_timestamp # [float]"
   ]
  },
  {
   "cell_type": "code",
   "execution_count": 23,
   "metadata": {},
   "outputs": [
    {
     "data": {
      "text/plain": [
       "datetime.datetime(2024, 1, 10, 16, 9, 13, 497538, tzinfo=tzlocal())"
      ]
     },
     "execution_count": 23,
     "metadata": {},
     "output_type": "execute_result"
    }
   ],
   "source": [
    "# Representing as datetime\n",
    "arrow_1.datetime"
   ]
  },
  {
   "cell_type": "code",
   "execution_count": 42,
   "metadata": {},
   "outputs": [
    {
     "data": {
      "text/plain": [
       "'2024/01/10'"
      ]
     },
     "execution_count": 42,
     "metadata": {},
     "output_type": "execute_result"
    }
   ],
   "source": [
    "# Representing as string\n",
    "arrow_1.format(fmt=\"YYYY/MM/DD\", locale=\"en-us\")"
   ]
  },
  {
   "cell_type": "code",
   "execution_count": 43,
   "metadata": {},
   "outputs": [
    {
     "data": {
      "text/plain": [
       "'an hour ago'"
      ]
     },
     "execution_count": 43,
     "metadata": {},
     "output_type": "execute_result"
    }
   ],
   "source": [
    "# Representing as human readable\n",
    "arrow_1.humanize()"
   ]
  },
  {
   "cell_type": "code",
   "execution_count": 44,
   "metadata": {},
   "outputs": [
    {
     "data": {
      "text/plain": [
       "<Arrow [2026-01-10T16:09:13.497538-03:00]>"
      ]
     },
     "execution_count": 44,
     "metadata": {},
     "output_type": "execute_result"
    }
   ],
   "source": [
    "# Representing from human readable (both past and future time)\n",
    "arrow_1.dehumanize(\"in 2 years\") # 'in value freq': for future times\n",
    "                                 # 'value freq ago': for past times"
   ]
  },
  {
   "cell_type": "code",
   "execution_count": 38,
   "metadata": {},
   "outputs": [
    {
     "data": {
      "text/plain": [
       "datetime.IsoCalendarDate(year=2024, week=2, weekday=3)"
      ]
     },
     "execution_count": 38,
     "metadata": {},
     "output_type": "execute_result"
    }
   ],
   "source": [
    "# Representing as ISO calendar\n",
    "arrow_1.isocalendar() # Acessible via \".\" operator (ex: .weekday; 1:Monday, 7:Sunday)"
   ]
  },
  {
   "cell_type": "code",
   "execution_count": 26,
   "metadata": {},
   "outputs": [
    {
     "data": {
      "text/plain": [
       "(2024, 1, 10, datetime.date(2024, 1, 10), datetime.time(16, 9, 13, 497538))"
      ]
     },
     "execution_count": 26,
     "metadata": {},
     "output_type": "execute_result"
    }
   ],
   "source": [
    "# Getting parameters\n",
    "arrow_1.year, arrow_1.month, arrow_1.day, arrow_1.date(), arrow_1.time() "
   ]
  },
  {
   "cell_type": "code",
   "execution_count": 45,
   "metadata": {},
   "outputs": [
    {
     "data": {
      "text/plain": [
       "<Arrow [2024-01-10T16:00:00-03:00]>"
      ]
     },
     "execution_count": 45,
     "metadata": {},
     "output_type": "execute_result"
    }
   ],
   "source": [
    "# Getting floor/ceiling\n",
    "arrow_1.floor(\"hour\") # Available: 'floor()', 'ceil()'"
   ]
  },
  {
   "cell_type": "code",
   "execution_count": 28,
   "metadata": {},
   "outputs": [
    {
     "data": {
      "text/plain": [
       "<Arrow [2023-01-01T16:09:13.497538-03:00]>"
      ]
     },
     "execution_count": 28,
     "metadata": {},
     "output_type": "execute_result"
    }
   ],
   "source": [
    "# Replacing attributes\n",
    "arrow_1.replace(year=2023, month=1, day=1) # Returns copy (not inplace)"
   ]
  },
  {
   "cell_type": "code",
   "execution_count": 29,
   "metadata": {},
   "outputs": [
    {
     "data": {
      "text/plain": [
       "<Arrow [2024-01-17T16:09:13.497538-03:00]>"
      ]
     },
     "execution_count": 29,
     "metadata": {},
     "output_type": "execute_result"
    }
   ],
   "source": [
    "# Shifting attributes\n",
    "arrow_1.shift(weeks=1) # Available: 'years', 'months', 'days', 'weekday' (0:Monday, 6:Sunday)"
   ]
  },
  {
   "cell_type": "code",
   "execution_count": 33,
   "metadata": {},
   "outputs": [
    {
     "name": "stdout",
     "output_type": "stream",
     "text": [
      "(<Arrow [2023-01-01T12:00:00+00:00]>, <Arrow [2023-01-01T13:59:59.999999+00:00]>)\n",
      "(<Arrow [2023-01-01T14:00:00+00:00]>, <Arrow [2023-01-01T15:59:59.999999+00:00]>)\n",
      "(<Arrow [2023-01-01T16:00:00+00:00]>, <Arrow [2023-01-01T17:59:59.999999+00:00]>)\n",
      "(<Arrow [2023-01-01T18:00:00+00:00]>, <Arrow [2023-01-01T18:59:59.999999+00:00]>)\n"
     ]
    }
   ],
   "source": [
    "# Iterator representing an interval between 2 inputs in specific frequency\n",
    "start = arrow.get(\"2023-01-01 12:00:00\", \"YYYY-MM-DD HH:mm:ss\")\n",
    "end = arrow.get(\"2023-01-01 18:00:00\", \"YYYY-MM-DD HH:mm:ss\")\n",
    "for each in arrow.Arrow.interval(\"hour\", start=start, end=end, interval=2):\n",
    "    print(each)"
   ]
  },
  {
   "cell_type": "code",
   "execution_count": 39,
   "metadata": {},
   "outputs": [
    {
     "data": {
      "text/plain": [
       "True"
      ]
     },
     "execution_count": 39,
     "metadata": {},
     "output_type": "execute_result"
    }
   ],
   "source": [
    "# Checking if object is between objects\n",
    "start = arrow.get(\"2023-01-01 12:00:00\", \"YYYY-MM-DD HH:mm:ss\")\n",
    "end = arrow.get(\"2023-01-01 18:00:00\", \"YYYY-MM-DD HH:mm:ss\")\n",
    "target = arrow.get(\"2023-01-01 15:00:00\", \"YYYY-MM-DD HH:mm:ss\")\n",
    "target.is_between(start, end)"
   ]
  },
  {
   "cell_type": "code",
   "execution_count": 41,
   "metadata": {},
   "outputs": [
    {
     "name": "stdout",
     "output_type": "stream",
     "text": [
      "2024-01-10T16:09:13.497538-03:00\n"
     ]
    },
    {
     "data": {
      "text/plain": [
       "(<Arrow [2024-01-10T16:00:00-03:00]>,\n",
       " <Arrow [2024-01-10T16:59:59.999999-03:00]>)"
      ]
     },
     "execution_count": 41,
     "metadata": {},
     "output_type": "execute_result"
    }
   ],
   "source": [
    "# Spanning (extending) an object over a frequency\n",
    "print(arrow_1)\n",
    "arrow_1.span(\"hour\") # Rounds original object down (based on frequency) and extends it"
   ]
  },
  {
   "cell_type": "markdown",
   "metadata": {},
   "source": [
    "---"
   ]
  }
 ],
 "metadata": {
  "kernelspec": {
   "display_name": "Python 3",
   "language": "python",
   "name": "python3"
  },
  "language_info": {
   "codemirror_mode": {
    "name": "ipython",
    "version": 3
   },
   "file_extension": ".py",
   "mimetype": "text/x-python",
   "name": "python",
   "nbconvert_exporter": "python",
   "pygments_lexer": "ipython3",
   "version": "3.9.6"
  }
 },
 "nbformat": 4,
 "nbformat_minor": 2
}
